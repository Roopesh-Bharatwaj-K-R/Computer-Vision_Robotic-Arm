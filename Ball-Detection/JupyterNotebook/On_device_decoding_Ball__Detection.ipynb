{
  "nbformat": 4,
  "nbformat_minor": 0,
  "metadata": {
    "colab": {
      "name": "On_device_decoding_Ball _Detection.ipynb",
      "provenance": [],
      "collapsed_sections": [],
      "toc_visible": true,
      "authorship_tag": "ABX9TyPvKvRJWCxeLR5zOSR6gdA2",
      "include_colab_link": true
    },
    "kernelspec": {
      "name": "python3",
      "display_name": "Python 3"
    },
    "language_info": {
      "name": "python"
    }
  },
  "cells": [
    {
      "cell_type": "markdown",
      "metadata": {
        "id": "view-in-github",
        "colab_type": "text"
      },
      "source": [
        "<a href=\"https://colab.research.google.com/github/Roopesh-Bharatwaj-K-R/Computer-Vision_Robotic-Arm/blob/Master/On_device_decoding_Ball__Detection.ipynb\" target=\"_parent\"><img src=\"https://colab.research.google.com/assets/colab-badge.svg\" alt=\"Open In Colab\"/></a>"
      ]
    },
    {
      "cell_type": "markdown",
      "source": [
        "#This File tells how to convert the trained Yolov5 Model to Deploymnet of Model in OAK Camera."
      ],
      "metadata": {
        "id": "zeHwWO4sgl-g"
      }
    },
    {
      "cell_type": "markdown",
      "source": [
        "Mount Drive "
      ],
      "metadata": {
        "id": "7oR4-i9-dKkW"
      }
    },
    {
      "cell_type": "code",
      "source": [
        "# save file\n",
        "from google.colab import drive\n",
        "drive.mount('/content/gdrive')"
      ],
      "metadata": {
        "colab": {
          "base_uri": "https://localhost:8080/"
        },
        "id": "fsXEcUNXnDp6",
        "outputId": "f1469236-c5d2-42ea-90b1-399ec68cbf26"
      },
      "execution_count": null,
      "outputs": [
        {
          "output_type": "stream",
          "name": "stdout",
          "text": [
            "Mounted at /content/gdrive\n"
          ]
        }
      ]
    },
    {
      "cell_type": "code",
      "source": [
        "import os\n",
        "path = \"/content/gdrive/MyDrive/yolov5\" # /content is pretty much the root. you can choose other path in your colab workspace\n",
        "os.chdir(path)"
      ],
      "metadata": {
        "id": "aUPBCwAknGyK"
      },
      "execution_count": null,
      "outputs": []
    },
    {
      "cell_type": "markdown",
      "source": [
        "# OpenVino :"
      ],
      "metadata": {
        "id": "Hebj32yvYSDI"
      }
    },
    {
      "cell_type": "code",
      "source": [
        "%%time\n",
        "%%capture\n",
        "## install tools. Open Vino takes some time to download: 10-15 min sometimes.\n",
        "!sudo apt-get install -y pciutils cpio\n",
        "!sudo apt autoremove\n",
        "## downnload installation files\n",
        "#! wget http://registrationcenter-download.intel.com/akdlm/irc_nas/16612/l_openvino_toolkit_p_2020.2.120.tgz\n",
        "! wget https://github.com/PINTO0309/tflite2tensorflow/releases/download/v1.10.4/l_openvino_toolkit_p_2021.4.582.tgz\n",
        "path = \"l_openvino_toolkit_p_2021.4.582.tgz\"\n",
        "\n",
        "## install openvino\n",
        "!tar xf \"{path}\"\n",
        "%cd l_openvino_toolkit_p_2021.4.582/\n",
        "\n",
        "!./install_openvino_dependencies.sh && \\\n",
        "    sed -i 's/decline/accept/g' silent.cfg && \\\n",
        "    ./install.sh --silent silent.cfg"
      ],
      "metadata": {
        "colab": {
          "base_uri": "https://localhost:8080/"
        },
        "id": "KHbqiQXQYK7e",
        "outputId": "bbd6b870-4877-4914-8570-33f707f6f261"
      },
      "execution_count": null,
      "outputs": [
        {
          "output_type": "stream",
          "name": "stdout",
          "text": [
            "CPU times: user 1.58 s, sys: 320 ms, total: 1.9 s\n",
            "Wall time: 3min 12s\n"
          ]
        }
      ]
    },
    {
      "cell_type": "code",
      "source": [
        "!bash /opt/intel/openvino_2021/deployment_tools/model_optimizer/install_prerequisites/install_prerequisites.sh"
      ],
      "metadata": {
        "colab": {
          "base_uri": "https://localhost:8080/"
        },
        "id": "KW2ZiYPTS9Af",
        "outputId": "b05ada37-35e6-4e7b-b6d2-74a6b6d9b63a"
      },
      "execution_count": null,
      "outputs": [
        {
          "output_type": "stream",
          "name": "stdout",
          "text": [
            "\u001b[33m\r0% [Working]\u001b[0m\r            \rHit:1 https://cloud.r-project.org/bin/linux/ubuntu bionic-cran40/ InRelease\n",
            "\u001b[33m\r0% [Connecting to archive.ubuntu.com (185.125.190.36)] [Connecting to security.\u001b[0m\u001b[33m\r0% [1 InRelease gpgv 3,626 B] [Connecting to archive.ubuntu.com (185.125.190.36\u001b[0m\r                                                                               \rIgn:2 https://developer.download.nvidia.com/compute/cuda/repos/ubuntu1804/x86_64  InRelease\n",
            "\u001b[33m\r0% [1 InRelease gpgv 3,626 B] [Waiting for headers] [Waiting for headers] [Wait\u001b[0m\u001b[33m\r0% [Waiting for headers] [Waiting for headers] [Waiting for headers] [Waiting f\u001b[0m\r                                                                               \rHit:3 http://ppa.launchpad.net/c2d4u.team/c2d4u4.0+/ubuntu bionic InRelease\n",
            "\u001b[33m\r                                                                               \r0% [Waiting for headers] [Waiting for headers] [Waiting for headers]\u001b[0m\r                                                                    \rHit:4 http://security.ubuntu.com/ubuntu bionic-security InRelease\n",
            "Hit:5 http://archive.ubuntu.com/ubuntu bionic InRelease\n",
            "Ign:6 https://developer.download.nvidia.com/compute/machine-learning/repos/ubuntu1804/x86_64  InRelease\n",
            "Hit:7 https://developer.download.nvidia.com/compute/cuda/repos/ubuntu1804/x86_64  Release\n",
            "Hit:8 https://developer.download.nvidia.com/compute/machine-learning/repos/ubuntu1804/x86_64  Release\n",
            "Hit:9 http://archive.ubuntu.com/ubuntu bionic-updates InRelease\n",
            "Hit:10 http://ppa.launchpad.net/cran/libgit2/ubuntu bionic InRelease\n",
            "Hit:11 http://archive.ubuntu.com/ubuntu bionic-backports InRelease\n",
            "Hit:12 http://ppa.launchpad.net/deadsnakes/ppa/ubuntu bionic InRelease\n",
            "Hit:14 http://ppa.launchpad.net/graphics-drivers/ppa/ubuntu bionic InRelease\n",
            "Reading package lists... Done\n",
            "Building dependency tree       \n",
            "Reading state information... Done\n",
            "73 packages can be upgraded. Run 'apt list --upgradable' to see them.\n",
            "Reading package lists... Done\n",
            "Building dependency tree       \n",
            "Reading state information... Done\n",
            "python3-pip is already the newest version (9.0.1-2.3~ubuntu1.18.04.5).\n",
            "python3-venv is already the newest version (3.6.7-1~18.04).\n",
            "0 upgraded, 0 newly installed, 0 to remove and 73 not upgraded.\n",
            "Requirement already satisfied: pip in /usr/local/lib/python3.7/dist-packages (21.1.3)\n",
            "Collecting pip\n",
            "  Downloading pip-22.0.4-py3-none-any.whl (2.1 MB)\n",
            "\u001b[K     |████████████████████████████████| 2.1 MB 27.1 MB/s \n",
            "\u001b[?25hInstalling collected packages: pip\n",
            "  Attempting uninstall: pip\n",
            "    Found existing installation: pip 21.1.3\n",
            "    Uninstalling pip-21.1.3:\n",
            "      Successfully uninstalled pip-21.1.3\n",
            "Successfully installed pip-22.0.4\n",
            "Ignoring mxnet: markers 'sys_platform == \"win32\"' don't match your environment\n",
            "Collecting tensorflow~=2.4.1\n",
            "  Downloading tensorflow-2.4.4-cp37-cp37m-manylinux2010_x86_64.whl (394.5 MB)\n",
            "\u001b[2K     \u001b[90m━━━━━━━━━━━━━━━━━━━━━━━━━━━━━━━━━━━━━━━\u001b[0m \u001b[32m394.5/394.5 MB\u001b[0m \u001b[31m3.4 MB/s\u001b[0m eta \u001b[36m0:00:00\u001b[0m\n",
            "\u001b[?25hCollecting mxnet~=1.7.0.post2\n",
            "  Downloading mxnet-1.7.0.post2-py2.py3-none-manylinux2014_x86_64.whl (54.7 MB)\n",
            "\u001b[2K     \u001b[90m━━━━━━━━━━━━━━━━━━━━━━━━━━━━━━━━━━━━━━━━\u001b[0m \u001b[32m54.7/54.7 MB\u001b[0m \u001b[31m14.6 MB/s\u001b[0m eta \u001b[36m0:00:00\u001b[0m\n",
            "\u001b[?25hRequirement already satisfied: networkx~=2.5 in /usr/local/lib/python3.7/dist-packages (from -r /opt/intel/openvino_2021/deployment_tools/model_optimizer/install_prerequisites/../requirements.txt (line 4)) (2.6.3)\n",
            "Collecting numpy<1.20,>=1.16.6\n",
            "  Downloading numpy-1.19.5-cp37-cp37m-manylinux2010_x86_64.whl (14.8 MB)\n",
            "\u001b[2K     \u001b[90m━━━━━━━━━━━━━━━━━━━━━━━━━━━━━━━━━━━━━━━━\u001b[0m \u001b[32m14.8/14.8 MB\u001b[0m \u001b[31m62.9 MB/s\u001b[0m eta \u001b[36m0:00:00\u001b[0m\n",
            "\u001b[?25hRequirement already satisfied: protobuf>=3.15.6 in /usr/local/lib/python3.7/dist-packages (from -r /opt/intel/openvino_2021/deployment_tools/model_optimizer/install_prerequisites/../requirements.txt (line 6)) (3.17.3)\n",
            "Requirement already satisfied: onnx>=1.8.1 in /usr/local/lib/python3.7/dist-packages (from -r /opt/intel/openvino_2021/deployment_tools/model_optimizer/install_prerequisites/../requirements.txt (line 7)) (1.11.0)\n",
            "Requirement already satisfied: defusedxml>=0.7.1 in /usr/local/lib/python3.7/dist-packages (from -r /opt/intel/openvino_2021/deployment_tools/model_optimizer/install_prerequisites/../requirements.txt (line 8)) (0.7.1)\n",
            "Collecting urllib3>=1.26.4\n",
            "  Downloading urllib3-1.26.9-py2.py3-none-any.whl (138 kB)\n",
            "\u001b[2K     \u001b[90m━━━━━━━━━━━━━━━━━━━━━━━━━━━━━━━━━━━━━━\u001b[0m \u001b[32m139.0/139.0 KB\u001b[0m \u001b[31m14.4 MB/s\u001b[0m eta \u001b[36m0:00:00\u001b[0m\n",
            "\u001b[?25hCollecting requests>=2.25.1\n",
            "  Downloading requests-2.27.1-py2.py3-none-any.whl (63 kB)\n",
            "\u001b[2K     \u001b[90m━━━━━━━━━━━━━━━━━━━━━━━━━━━━━━━━━━━━━━━━\u001b[0m \u001b[32m63.1/63.1 KB\u001b[0m \u001b[31m6.4 MB/s\u001b[0m eta \u001b[36m0:00:00\u001b[0m\n",
            "\u001b[?25hCollecting h5py~=2.10.0\n",
            "  Downloading h5py-2.10.0-cp37-cp37m-manylinux1_x86_64.whl (2.9 MB)\n",
            "\u001b[2K     \u001b[90m━━━━━━━━━━━━━━━━━━━━━━━━━━━━━━━━━━━━━━━━\u001b[0m \u001b[32m2.9/2.9 MB\u001b[0m \u001b[31m73.4 MB/s\u001b[0m eta \u001b[36m0:00:00\u001b[0m\n",
            "\u001b[?25hRequirement already satisfied: tensorboard~=2.4 in /usr/local/lib/python3.7/dist-packages (from tensorflow~=2.4.1->-r /opt/intel/openvino_2021/deployment_tools/model_optimizer/install_prerequisites/../requirements.txt (line 1)) (2.8.0)\n",
            "Requirement already satisfied: google-pasta~=0.2 in /usr/local/lib/python3.7/dist-packages (from tensorflow~=2.4.1->-r /opt/intel/openvino_2021/deployment_tools/model_optimizer/install_prerequisites/../requirements.txt (line 1)) (0.2.0)\n",
            "Collecting tensorflow-estimator<2.5.0,>=2.4.0\n",
            "  Downloading tensorflow_estimator-2.4.0-py2.py3-none-any.whl (462 kB)\n",
            "\u001b[2K     \u001b[90m━━━━━━━━━━━━━━━━━━━━━━━━━━━━━━━━━━━━━━\u001b[0m \u001b[32m462.0/462.0 KB\u001b[0m \u001b[31m33.9 MB/s\u001b[0m eta \u001b[36m0:00:00\u001b[0m\n",
            "\u001b[?25hRequirement already satisfied: opt-einsum~=3.3.0 in /usr/local/lib/python3.7/dist-packages (from tensorflow~=2.4.1->-r /opt/intel/openvino_2021/deployment_tools/model_optimizer/install_prerequisites/../requirements.txt (line 1)) (3.3.0)\n",
            "Requirement already satisfied: keras-preprocessing~=1.1.2 in /usr/local/lib/python3.7/dist-packages (from tensorflow~=2.4.1->-r /opt/intel/openvino_2021/deployment_tools/model_optimizer/install_prerequisites/../requirements.txt (line 1)) (1.1.2)\n",
            "Requirement already satisfied: six~=1.15.0 in /usr/local/lib/python3.7/dist-packages (from tensorflow~=2.4.1->-r /opt/intel/openvino_2021/deployment_tools/model_optimizer/install_prerequisites/../requirements.txt (line 1)) (1.15.0)\n",
            "Collecting wrapt~=1.12.1\n",
            "  Downloading wrapt-1.12.1.tar.gz (27 kB)\n",
            "  Preparing metadata (setup.py) ... \u001b[?25l\u001b[?25hdone\n",
            "Collecting grpcio~=1.32.0\n",
            "  Downloading grpcio-1.32.0-cp37-cp37m-manylinux2014_x86_64.whl (3.8 MB)\n",
            "\u001b[2K     \u001b[90m━━━━━━━━━━━━━━━━━━━━━━━━━━━━━━━━━━━━━━━━\u001b[0m \u001b[32m3.8/3.8 MB\u001b[0m \u001b[31m53.3 MB/s\u001b[0m eta \u001b[36m0:00:00\u001b[0m\n",
            "\u001b[?25hRequirement already satisfied: termcolor~=1.1.0 in /usr/local/lib/python3.7/dist-packages (from tensorflow~=2.4.1->-r /opt/intel/openvino_2021/deployment_tools/model_optimizer/install_prerequisites/../requirements.txt (line 1)) (1.1.0)\n",
            "Requirement already satisfied: astunparse~=1.6.3 in /usr/local/lib/python3.7/dist-packages (from tensorflow~=2.4.1->-r /opt/intel/openvino_2021/deployment_tools/model_optimizer/install_prerequisites/../requirements.txt (line 1)) (1.6.3)\n",
            "Collecting absl-py~=0.10\n",
            "  Downloading absl_py-0.15.0-py3-none-any.whl (132 kB)\n",
            "\u001b[2K     \u001b[90m━━━━━━━━━━━━━━━━━━━━━━━━━━━━━━━━━━━━━━\u001b[0m \u001b[32m132.0/132.0 KB\u001b[0m \u001b[31m14.1 MB/s\u001b[0m eta \u001b[36m0:00:00\u001b[0m\n",
            "\u001b[?25hCollecting flatbuffers~=1.12.0\n",
            "  Downloading flatbuffers-1.12-py2.py3-none-any.whl (15 kB)\n",
            "Collecting typing-extensions~=3.7.4\n",
            "  Downloading typing_extensions-3.7.4.3-py3-none-any.whl (22 kB)\n",
            "Requirement already satisfied: wheel~=0.35 in /usr/local/lib/python3.7/dist-packages (from tensorflow~=2.4.1->-r /opt/intel/openvino_2021/deployment_tools/model_optimizer/install_prerequisites/../requirements.txt (line 1)) (0.37.1)\n",
            "Collecting gast==0.3.3\n",
            "  Downloading gast-0.3.3-py2.py3-none-any.whl (9.7 kB)\n",
            "Collecting graphviz<0.9.0,>=0.8.1\n",
            "  Downloading graphviz-0.8.4-py2.py3-none-any.whl (16 kB)\n",
            "Requirement already satisfied: certifi>=2017.4.17 in /usr/local/lib/python3.7/dist-packages (from requests>=2.25.1->-r /opt/intel/openvino_2021/deployment_tools/model_optimizer/install_prerequisites/../requirements.txt (line 10)) (2021.10.8)\n",
            "Requirement already satisfied: charset-normalizer~=2.0.0 in /usr/local/lib/python3.7/dist-packages (from requests>=2.25.1->-r /opt/intel/openvino_2021/deployment_tools/model_optimizer/install_prerequisites/../requirements.txt (line 10)) (2.0.12)\n",
            "Requirement already satisfied: idna<4,>=2.5 in /usr/local/lib/python3.7/dist-packages (from requests>=2.25.1->-r /opt/intel/openvino_2021/deployment_tools/model_optimizer/install_prerequisites/../requirements.txt (line 10)) (2.10)\n",
            "Requirement already satisfied: google-auth<3,>=1.6.3 in /usr/local/lib/python3.7/dist-packages (from tensorboard~=2.4->tensorflow~=2.4.1->-r /opt/intel/openvino_2021/deployment_tools/model_optimizer/install_prerequisites/../requirements.txt (line 1)) (1.35.0)\n",
            "Requirement already satisfied: markdown>=2.6.8 in /usr/local/lib/python3.7/dist-packages (from tensorboard~=2.4->tensorflow~=2.4.1->-r /opt/intel/openvino_2021/deployment_tools/model_optimizer/install_prerequisites/../requirements.txt (line 1)) (3.3.6)\n",
            "Requirement already satisfied: setuptools>=41.0.0 in /usr/local/lib/python3.7/dist-packages (from tensorboard~=2.4->tensorflow~=2.4.1->-r /opt/intel/openvino_2021/deployment_tools/model_optimizer/install_prerequisites/../requirements.txt (line 1)) (57.4.0)\n",
            "Requirement already satisfied: tensorboard-data-server<0.7.0,>=0.6.0 in /usr/local/lib/python3.7/dist-packages (from tensorboard~=2.4->tensorflow~=2.4.1->-r /opt/intel/openvino_2021/deployment_tools/model_optimizer/install_prerequisites/../requirements.txt (line 1)) (0.6.1)\n",
            "Requirement already satisfied: tensorboard-plugin-wit>=1.6.0 in /usr/local/lib/python3.7/dist-packages (from tensorboard~=2.4->tensorflow~=2.4.1->-r /opt/intel/openvino_2021/deployment_tools/model_optimizer/install_prerequisites/../requirements.txt (line 1)) (1.8.1)\n",
            "Requirement already satisfied: werkzeug>=0.11.15 in /usr/local/lib/python3.7/dist-packages (from tensorboard~=2.4->tensorflow~=2.4.1->-r /opt/intel/openvino_2021/deployment_tools/model_optimizer/install_prerequisites/../requirements.txt (line 1)) (1.0.1)\n",
            "Requirement already satisfied: google-auth-oauthlib<0.5,>=0.4.1 in /usr/local/lib/python3.7/dist-packages (from tensorboard~=2.4->tensorflow~=2.4.1->-r /opt/intel/openvino_2021/deployment_tools/model_optimizer/install_prerequisites/../requirements.txt (line 1)) (0.4.6)\n",
            "Requirement already satisfied: pyasn1-modules>=0.2.1 in /usr/local/lib/python3.7/dist-packages (from google-auth<3,>=1.6.3->tensorboard~=2.4->tensorflow~=2.4.1->-r /opt/intel/openvino_2021/deployment_tools/model_optimizer/install_prerequisites/../requirements.txt (line 1)) (0.2.8)\n",
            "Requirement already satisfied: cachetools<5.0,>=2.0.0 in /usr/local/lib/python3.7/dist-packages (from google-auth<3,>=1.6.3->tensorboard~=2.4->tensorflow~=2.4.1->-r /opt/intel/openvino_2021/deployment_tools/model_optimizer/install_prerequisites/../requirements.txt (line 1)) (4.2.4)\n",
            "Requirement already satisfied: rsa<5,>=3.1.4 in /usr/local/lib/python3.7/dist-packages (from google-auth<3,>=1.6.3->tensorboard~=2.4->tensorflow~=2.4.1->-r /opt/intel/openvino_2021/deployment_tools/model_optimizer/install_prerequisites/../requirements.txt (line 1)) (4.8)\n",
            "Requirement already satisfied: requests-oauthlib>=0.7.0 in /usr/local/lib/python3.7/dist-packages (from google-auth-oauthlib<0.5,>=0.4.1->tensorboard~=2.4->tensorflow~=2.4.1->-r /opt/intel/openvino_2021/deployment_tools/model_optimizer/install_prerequisites/../requirements.txt (line 1)) (1.3.1)\n",
            "Requirement already satisfied: importlib-metadata>=4.4 in /usr/local/lib/python3.7/dist-packages (from markdown>=2.6.8->tensorboard~=2.4->tensorflow~=2.4.1->-r /opt/intel/openvino_2021/deployment_tools/model_optimizer/install_prerequisites/../requirements.txt (line 1)) (4.11.3)\n",
            "Requirement already satisfied: zipp>=0.5 in /usr/local/lib/python3.7/dist-packages (from importlib-metadata>=4.4->markdown>=2.6.8->tensorboard~=2.4->tensorflow~=2.4.1->-r /opt/intel/openvino_2021/deployment_tools/model_optimizer/install_prerequisites/../requirements.txt (line 1)) (3.7.0)\n",
            "Requirement already satisfied: pyasn1<0.5.0,>=0.4.6 in /usr/local/lib/python3.7/dist-packages (from pyasn1-modules>=0.2.1->google-auth<3,>=1.6.3->tensorboard~=2.4->tensorflow~=2.4.1->-r /opt/intel/openvino_2021/deployment_tools/model_optimizer/install_prerequisites/../requirements.txt (line 1)) (0.4.8)\n",
            "Requirement already satisfied: oauthlib>=3.0.0 in /usr/local/lib/python3.7/dist-packages (from requests-oauthlib>=0.7.0->google-auth-oauthlib<0.5,>=0.4.1->tensorboard~=2.4->tensorflow~=2.4.1->-r /opt/intel/openvino_2021/deployment_tools/model_optimizer/install_prerequisites/../requirements.txt (line 1)) (3.2.0)\n",
            "Building wheels for collected packages: wrapt\n",
            "  Building wheel for wrapt (setup.py) ... \u001b[?25l\u001b[?25hdone\n",
            "  Created wheel for wrapt: filename=wrapt-1.12.1-cp37-cp37m-linux_x86_64.whl size=68724 sha256=328195ca5f3e152225742fbce4e9c2b1bb754b4ef338910f8ddad8f9911f9a28\n",
            "  Stored in directory: /root/.cache/pip/wheels/62/76/4c/aa25851149f3f6d9785f6c869387ad82b3fd37582fa8147ac6\n",
            "Successfully built wrapt\n",
            "Installing collected packages: wrapt, typing-extensions, tensorflow-estimator, flatbuffers, urllib3, numpy, grpcio, graphviz, gast, absl-py, requests, h5py, mxnet, tensorflow\n",
            "  Attempting uninstall: wrapt\n",
            "    Found existing installation: wrapt 1.14.0\n",
            "    Uninstalling wrapt-1.14.0:\n",
            "      Successfully uninstalled wrapt-1.14.0\n",
            "  Attempting uninstall: typing-extensions\n",
            "    Found existing installation: typing-extensions 3.10.0.2\n",
            "    Uninstalling typing-extensions-3.10.0.2:\n",
            "      Successfully uninstalled typing-extensions-3.10.0.2\n",
            "  Attempting uninstall: tensorflow-estimator\n",
            "    Found existing installation: tensorflow-estimator 2.8.0\n",
            "    Uninstalling tensorflow-estimator-2.8.0:\n",
            "      Successfully uninstalled tensorflow-estimator-2.8.0\n",
            "  Attempting uninstall: flatbuffers\n",
            "    Found existing installation: flatbuffers 2.0\n",
            "    Uninstalling flatbuffers-2.0:\n",
            "      Successfully uninstalled flatbuffers-2.0\n",
            "  Attempting uninstall: urllib3\n",
            "    Found existing installation: urllib3 1.24.3\n",
            "    Uninstalling urllib3-1.24.3:\n",
            "      Successfully uninstalled urllib3-1.24.3\n",
            "  Attempting uninstall: numpy\n",
            "    Found existing installation: numpy 1.21.5\n",
            "    Uninstalling numpy-1.21.5:\n",
            "      Successfully uninstalled numpy-1.21.5\n",
            "  Attempting uninstall: grpcio\n",
            "    Found existing installation: grpcio 1.44.0\n",
            "    Uninstalling grpcio-1.44.0:\n",
            "      Successfully uninstalled grpcio-1.44.0\n",
            "  Attempting uninstall: graphviz\n",
            "    Found existing installation: graphviz 0.10.1\n",
            "    Uninstalling graphviz-0.10.1:\n",
            "      Successfully uninstalled graphviz-0.10.1\n",
            "  Attempting uninstall: gast\n",
            "    Found existing installation: gast 0.5.3\n",
            "    Uninstalling gast-0.5.3:\n",
            "      Successfully uninstalled gast-0.5.3\n",
            "  Attempting uninstall: absl-py\n",
            "    Found existing installation: absl-py 1.0.0\n",
            "    Uninstalling absl-py-1.0.0:\n",
            "      Successfully uninstalled absl-py-1.0.0\n",
            "  Attempting uninstall: requests\n",
            "    Found existing installation: requests 2.23.0\n",
            "    Uninstalling requests-2.23.0:\n",
            "      Successfully uninstalled requests-2.23.0\n",
            "  Attempting uninstall: h5py\n",
            "    Found existing installation: h5py 3.1.0\n",
            "    Uninstalling h5py-3.1.0:\n",
            "      Successfully uninstalled h5py-3.1.0\n",
            "  Attempting uninstall: tensorflow\n",
            "    Found existing installation: tensorflow 2.8.0\n",
            "    Uninstalling tensorflow-2.8.0:\n",
            "      Successfully uninstalled tensorflow-2.8.0\n",
            "\u001b[31mERROR: pip's dependency resolver does not currently take into account all the packages that are installed. This behaviour is the source of the following dependency conflicts.\n",
            "onnxruntime 1.11.0 requires numpy>=1.21.0, but you have numpy 1.19.5 which is incompatible.\n",
            "google-colab 1.0.0 requires requests~=2.23.0, but you have requests 2.27.1 which is incompatible.\n",
            "datascience 0.10.6 requires folium==0.2.1, but you have folium 0.8.3 which is incompatible.\n",
            "albumentations 0.1.12 requires imgaug<0.2.7,>=0.2.5, but you have imgaug 0.2.9 which is incompatible.\u001b[0m\u001b[31m\n",
            "\u001b[0mSuccessfully installed absl-py-0.15.0 flatbuffers-1.12 gast-0.3.3 graphviz-0.8.4 grpcio-1.32.0 h5py-2.10.0 mxnet-1.7.0.post2 numpy-1.19.5 requests-2.27.1 tensorflow-2.4.4 tensorflow-estimator-2.4.0 typing-extensions-3.7.4.3 urllib3-1.26.9 wrapt-1.12.1\n",
            "\u001b[33mWARNING: Running pip as the 'root' user can result in broken permissions and conflicting behaviour with the system package manager. It is recommended to use a virtual environment instead: https://pip.pypa.io/warnings/venv\u001b[0m\u001b[33m\n",
            "\u001b[0m\t- Inference Engine found in: \t/opt/intel/openvino_2021.4.582/python/python3.7/openvino\n",
            "Inference Engine version: \t2021.4.0-3839-cd81789d294-releases/2021/4\n",
            "Model Optimizer version: \t2021.4.0-3839-cd81789d294-releases/2021/4\n",
            "[WARNING] All Model Optimizer dependencies are installed globally.\n",
            "[WARNING] If you want to keep Model Optimizer in separate sandbox\n",
            "[WARNING] run install_prerequisites.sh \"{caffe|tf|tf2|mxnet|kaldi|onnx}\" venv\n"
          ]
        }
      ]
    },
    {
      "cell_type": "markdown",
      "source": [
        "# Import the Yolov5 Model Weight"
      ],
      "metadata": {
        "id": "f7fzX46adSEj"
      }
    },
    {
      "cell_type": "code",
      "execution_count": null,
      "metadata": {
        "id": "AQlLTwtym9qO"
      },
      "outputs": [],
      "source": [
        "weights_path = \"/content/gdrive/MyDrive/yolov5/runs/train/exp/weights/firstbest.pt\""
      ]
    },
    {
      "cell_type": "markdown",
      "source": [
        "# Convert Yolov5 weights.pt to Onnx "
      ],
      "metadata": {
        "id": "Pd8EePiEd0Jj"
      }
    },
    {
      "cell_type": "markdown",
      "source": [
        "This code saves the Model as '.onnx' "
      ],
      "metadata": {
        "id": "kX57MB0dd6pR"
      }
    },
    {
      "cell_type": "code",
      "source": [
        "! python export.py --weights $weights_path --img 416 --batch 1 --device cpu --include \"onnx\" --simplify "
      ],
      "metadata": {
        "colab": {
          "base_uri": "https://localhost:8080/"
        },
        "id": "gboL5DeNs4Xy",
        "outputId": "6bed7330-d3ca-48e8-fcb7-0be2ebe65179"
      },
      "execution_count": null,
      "outputs": [
        {
          "output_type": "stream",
          "name": "stdout",
          "text": [
            "\u001b[34m\u001b[1mexport: \u001b[0mdata=data/coco128.yaml, weights=['/content/gdrive/MyDrive/yolov5/runs/train/exp/weights/firstbest.pt'], imgsz=[416], batch_size=1, device=cpu, half=False, inplace=False, train=False, optimize=False, int8=False, dynamic=False, simplify=True, opset=12, verbose=False, workspace=4, nms=False, agnostic_nms=False, topk_per_class=100, topk_all=100, iou_thres=0.45, conf_thres=0.25, include=['onnx']\n",
            "YOLOv5 🚀 v6.1-69-g7830e91 torch 1.10.0+cu111 CPU\n",
            "\n",
            "Fusing layers... \n",
            "Model summary: 213 layers, 7023610 parameters, 0 gradients\n",
            "\n",
            "\u001b[34m\u001b[1mPyTorch:\u001b[0m starting from /content/gdrive/MyDrive/yolov5/runs/train/exp/weights/firstbest.pt with output shape (1, 10647, 10) (13.7 MB)\n",
            "\n",
            "\u001b[34m\u001b[1mONNX:\u001b[0m starting export with onnx 1.11.0...\n",
            "\u001b[34m\u001b[1mONNX:\u001b[0m simplifying with onnx-simplifier 0.3.7...\n",
            "\u001b[34m\u001b[1mONNX:\u001b[0m export success, saved as /content/gdrive/MyDrive/yolov5/runs/train/exp/weights/firstbest.onnx (27.0 MB)\n",
            "\n",
            "Export complete (4.84s)\n",
            "Results saved to \u001b[1m/content/gdrive/MyDrive/yolov5/runs/train/exp/weights\u001b[0m\n",
            "Detect:          python detect.py --weights /content/gdrive/MyDrive/yolov5/runs/train/exp/weights/firstbest.onnx\n",
            "PyTorch Hub:     model = torch.hub.load('ultralytics/yolov5', 'custom', '/content/gdrive/MyDrive/yolov5/runs/train/exp/weights/firstbest.onnx')\n",
            "Validate:        python val.py --weights /content/gdrive/MyDrive/yolov5/runs/train/exp/weights/firstbest.onnx\n",
            "Visualize:       https://netron.app\n"
          ]
        }
      ]
    },
    {
      "cell_type": "code",
      "source": [
        "!pip install onnx"
      ],
      "metadata": {
        "colab": {
          "base_uri": "https://localhost:8080/"
        },
        "id": "RsfyxjOhtyhZ",
        "outputId": "8c2cc405-48b3-4a7c-9cd4-583befc94491"
      },
      "execution_count": null,
      "outputs": [
        {
          "output_type": "stream",
          "name": "stdout",
          "text": [
            "Requirement already satisfied: onnx in /usr/local/lib/python3.7/dist-packages (1.11.0)\n",
            "Requirement already satisfied: typing-extensions>=3.6.2.1 in /usr/local/lib/python3.7/dist-packages (from onnx) (3.10.0.2)\n",
            "Requirement already satisfied: numpy>=1.16.6 in /usr/local/lib/python3.7/dist-packages (from onnx) (1.21.5)\n",
            "Requirement already satisfied: protobuf>=3.12.2 in /usr/local/lib/python3.7/dist-packages (from onnx) (3.17.3)\n",
            "Requirement already satisfied: six>=1.9 in /usr/local/lib/python3.7/dist-packages (from protobuf>=3.12.2->onnx) (1.15.0)\n"
          ]
        }
      ]
    },
    {
      "cell_type": "markdown",
      "source": [
        "Import Onnx path "
      ],
      "metadata": {
        "id": "iaN2s77NeDUG"
      }
    },
    {
      "cell_type": "code",
      "source": [
        "onnx_path = '/content/gdrive/MyDrive/yolov5/runs/train/exp/weights/firstbest.onnx'"
      ],
      "metadata": {
        "id": "7bh4YG8at1su"
      },
      "execution_count": null,
      "outputs": []
    },
    {
      "cell_type": "markdown",
      "source": [
        "# Pruning the Last 3 layers of Onnx Model (Conv layer  to Sigmoid Layer)"
      ],
      "metadata": {
        "id": "SkF3qVZPcAtB"
      }
    },
    {
      "cell_type": "markdown",
      "source": [
        "Use Netron App for the Viewing the LAYERS and Pruning."
      ],
      "metadata": {
        "id": "petjba_LgM3M"
      }
    },
    {
      "cell_type": "code",
      "source": [
        "import onnx\n",
        "\n",
        "onnx_model = onnx.load(onnx_path)\n",
        "\n",
        "conv_indices = []\n",
        "for i, n in enumerate(onnx_model.graph.node):\n",
        "  if \"Conv\" in n.name:\n",
        "    conv_indices.append(i)"
      ],
      "metadata": {
        "id": "OZ3gVQpGuky6"
      },
      "execution_count": null,
      "outputs": []
    },
    {
      "cell_type": "code",
      "source": [
        "input1, input2, input3 = conv_indices[-3:]"
      ],
      "metadata": {
        "id": "4Uyd3Bj-uo3x"
      },
      "execution_count": null,
      "outputs": []
    },
    {
      "cell_type": "code",
      "source": [
        "sigmoid1 = onnx.helper.make_node(\n",
        "    'Sigmoid',\n",
        "    inputs=[onnx_model.graph.node[input1].output[0]],\n",
        "    outputs=['output1_yolov5'],\n",
        ")\n",
        "\n",
        "sigmoid2 = onnx.helper.make_node(\n",
        "    'Sigmoid',\n",
        "    inputs=[onnx_model.graph.node[input2].output[0]],\n",
        "    outputs=['output2_yolov5'],\n",
        ")\n",
        "\n",
        "sigmoid3 = onnx.helper.make_node(\n",
        "    'Sigmoid',\n",
        "    inputs=[onnx_model.graph.node[input3].output[0]],\n",
        "    outputs=['output3_yolov5'],\n",
        ")\n",
        "\n",
        "onnx_model.graph.node.append(sigmoid1)\n",
        "onnx_model.graph.node.append(sigmoid2)\n",
        "onnx_model.graph.node.append(sigmoid3)"
      ],
      "metadata": {
        "id": "rIT8DlTGuwDY"
      },
      "execution_count": null,
      "outputs": []
    },
    {
      "cell_type": "code",
      "source": [
        "! mkdir  \"/content/gdrive/MyDrive/yolov5/pruned_onnx/\"\n",
        "#onnx.save(onnx_model, \"/content/gdrive/MyDrive/yolov5/pruned_onnx/pruned.onnx\")"
      ],
      "metadata": {
        "colab": {
          "base_uri": "https://localhost:8080/"
        },
        "id": "JR0LvwrNuzaQ",
        "outputId": "6a904d28-6869-40d8-cae6-1590bc3865e5"
      },
      "execution_count": null,
      "outputs": [
        {
          "output_type": "stream",
          "name": "stdout",
          "text": [
            "mkdir: cannot create directory ‘/content/gdrive/MyDrive/yolov5/pruned_onnx/’: File exists\n"
          ]
        }
      ]
    },
    {
      "cell_type": "markdown",
      "source": [
        "# Save Model"
      ],
      "metadata": {
        "id": "F95WZHXDcNTP"
      }
    },
    {
      "cell_type": "code",
      "source": [
        "onnx.save(onnx_model, \"/content/gdrive/MyDrive/yolov5/pruned_onnx/pruned.onnx\")"
      ],
      "metadata": {
        "id": "KJFcjNsovPU4"
      },
      "execution_count": null,
      "outputs": []
    },
    {
      "cell_type": "markdown",
      "source": [
        "All that is left to do, is to export the model to OpenVINO IR and generate the blob that we can use together with the DepthAI API! 💻\n",
        "\n",
        "If you face some erros regarding the input shape, try adding the flag --input_shape [1,3,416,416] with correct shape.\n",
        "\n",
        "Note that we name the output layers as we named them when editing the ONNX. As this are our output layers, this will also remove all later layers and prune our model."
      ],
      "metadata": {
        "id": "u1CSpfJB7CnP"
      }
    },
    {
      "cell_type": "markdown",
      "source": [
        "# OpenVINO  Model Optimizer "
      ],
      "metadata": {
        "id": "ksZ3d328S64G"
      }
    },
    {
      "cell_type": "markdown",
      "source": [
        "The code optimizes as OpenVINO IR.\n",
        "\n",
        "yolov5.xml and yolov5.bin saved in the output directory. \n",
        "\n",
        "We can use them now to generate the .blob that can run on OAK."
      ],
      "metadata": {
        "id": "qhVFAbllieRs"
      }
    },
    {
      "cell_type": "code",
      "source": [
        "! source /opt/intel/openvino_2021/bin/setupvars.sh\n",
        "! python /opt/intel/openvino_2021/deployment_tools/model_optimizer/mo.py \\\n",
        "--input_model  /content/gdrive/MyDrive/yolov5/pruned_onnx/pruned.onnx \\\n",
        "--model_name ball_detector_yolov5 \\\n",
        "--data_type FP16 \\\n",
        "--output_dir /content/gdrive/MyDrive/yolov5/output \\ # Output Directory\n",
        "--reverse_input_channel \\\n",
        "--scale 255 \\\n",
        "--output \"output1_yolov5,output2_yolov5,output3_yolov5\""
      ],
      "metadata": {
        "colab": {
          "base_uri": "https://localhost:8080/"
        },
        "id": "rmUouB7p7D-d",
        "outputId": "1841ec5d-b98f-4367-a5b0-6adac0b44314"
      },
      "execution_count": null,
      "outputs": [
        {
          "output_type": "stream",
          "name": "stdout",
          "text": [
            "[setupvars.sh] OpenVINO environment initialized\n",
            "Model Optimizer arguments:\n",
            "Common parameters:\n",
            "\t- Path to the Input Model: \t/content/gdrive/MyDrive/yolov5/pruned_onnx/pruned.onnx\n",
            "\t- Path for generated IR: \t/content/gdrive/MyDrive/yolov5/output\n",
            "\t- IR output name: \tball_detector_yolov5\n",
            "\t- Log level: \tERROR\n",
            "\t- Batch: \tNot specified, inherited from the model\n",
            "\t- Input layers: \tNot specified, inherited from the model\n",
            "\t- Output layers: \toutput1_yolov5,output2_yolov5,output3_yolov5\n",
            "\t- Input shapes: \tNot specified, inherited from the model\n",
            "\t- Mean values: \tNot specified\n",
            "\t- Scale values: \tNot specified\n",
            "\t- Scale factor: \t255.0\n",
            "\t- Precision of IR: \tFP16\n",
            "\t- Enable fusing: \tTrue\n",
            "\t- Enable grouped convolutions fusing: \tTrue\n",
            "\t- Move mean values to preprocess section: \tNone\n",
            "\t- Reverse input channels: \tTrue\n",
            "ONNX specific parameters:\n",
            "\t- Inference Engine found in: \t/opt/intel/openvino_2021.4.582/python/python3.7/openvino\n",
            "Inference Engine version: \t2021.4.0-3839-cd81789d294-releases/2021/4\n",
            "Model Optimizer version: \t2021.4.0-3839-cd81789d294-releases/2021/4\n",
            "[ WARNING ]  Const node 'Resize_118/Add_input_port_1/value211910112' returns shape values of 'float64' type but it must be integer or float32. During Elementwise type inference will attempt to cast to float32\n",
            "[ WARNING ]  Const node 'Resize_140/Add_input_port_1/value215310115' returns shape values of 'float64' type but it must be integer or float32. During Elementwise type inference will attempt to cast to float32\n",
            "[ WARNING ]  Changing Const node 'Resize_118/Add_input_port_1/value211910454' data type from float16 to <class 'numpy.float32'> for Elementwise operation\n",
            "[ WARNING ]  Changing Const node 'Resize_140/Add_input_port_1/value215310244' data type from float16 to <class 'numpy.float32'> for Elementwise operation\n",
            "[ SUCCESS ] Generated IR version 10 model.\n",
            "[ SUCCESS ] XML file: /content/gdrive/MyDrive/yolov5/output/ball_detector_yolov5.xml\n",
            "[ SUCCESS ] BIN file: /content/gdrive/MyDrive/yolov5/output/ball_detector_yolov5.bin\n",
            "[ SUCCESS ] Total execution time: 15.22 seconds. \n",
            "[ SUCCESS ] Memory consumed: 178 MB. \n",
            "It's been a while, check for a new version of Intel(R) Distribution of OpenVINO(TM) toolkit here https://software.intel.com/content/www/us/en/develop/tools/openvino-toolkit/download.html?cid=other&source=prod&campid=ww_2021_bu_IOTG_OpenVINO-2021-4-LTS&content=upg_all&medium=organic or on the GitHub*\n"
          ]
        }
      ]
    },
    {
      "cell_type": "markdown",
      "source": [
        "# OpenVino to Blob Converter\n",
        "\n",
        "This Blob File can be used directly to the OAK-D-Litte (Intel VPU ) camera for deployment"
      ],
      "metadata": {
        "id": "hOr4zKbLlqlP"
      }
    },
    {
      "cell_type": "code",
      "source": [
        "! mkdir \"/content/gdrive/MyDrive/yolov5/blob_file/\" # create a directory "
      ],
      "metadata": {
        "id": "ps2JL1czlPdv"
      },
      "execution_count": null,
      "outputs": []
    },
    {
      "cell_type": "markdown",
      "source": [
        "Import the Yolov5.Bin and Yolov5.xml directory"
      ],
      "metadata": {
        "id": "cwK-ElT5fdO1"
      }
    },
    {
      "cell_type": "code",
      "source": [
        "\n",
        "blob_dir = \"/content/gdrive/MyDrive/yolov5/blob_file/\"  # Choose the directory where you would like to save the blob.\n",
        "\n",
        "binfile = \"/content/gdrive/MyDrive/yolov5/output/ball_detector_yolov5.bin\"\n",
        "xmlfile = \"/content/gdrive/MyDrive/yolov5/output/ball_detector_yolov5.xml\"\n",
        "\n",
        "!python -m pip install blobconverter\n",
        "\n",
        "import blobconverter\n",
        "blob_path = blobconverter.from_openvino(\n",
        "    xml=xmlfile,\n",
        "    bin=binfile,\n",
        "    data_type=\"FP16\",\n",
        "    shaves=6,\n",
        "    version=\"2021.4\",\n",
        "    use_cache=False)\n",
        "from google.colab import files\n",
        "files.download(blob_path)\n",
        "\n",
        "# Saved Blob File\n",
        "\n"
      ],
      "metadata": {
        "id": "S67SiZ8Hih41"
      },
      "execution_count": null,
      "outputs": []
    },
    {
      "cell_type": "markdown",
      "source": [
        "# Next Step- > Depthai Pipeline and Deploymemt in OAK Camera"
      ],
      "metadata": {
        "id": "gEP9CxZ5gZuo"
      }
    }
  ]
}